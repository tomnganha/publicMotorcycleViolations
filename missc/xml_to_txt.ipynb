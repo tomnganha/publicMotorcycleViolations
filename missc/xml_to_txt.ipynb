{
 "cells": [
  {
   "cell_type": "code",
   "execution_count": 18,
   "source": [
    "import xml.etree.ElementTree as ET\r\n",
    "import glob\r\n",
    "import ntpath\r\n",
    "import os\r\n",
    "dest_folder = r'C:\\Users\\Dev Agarwal\\Desktop\\vehicle_detection\\data\\test'\r\n",
    "\r\n",
    "for i in glob.glob(r'C:\\Users\\Dev Agarwal\\Desktop\\vehicle_detection\\data\\annotations\\XML\\val/*'):\r\n",
    "    tree = ET.parse(i)\r\n",
    "    root = tree.getroot()\r\n",
    "    bb = {}\r\n",
    "    dims = []\r\n",
    "    check = 0\r\n",
    "\r\n",
    "    for size in root.findall('size'):\r\n",
    "        width = int(size.find('width').text)\r\n",
    "        dims.append(width)\r\n",
    "        height = int(size.find('height').text)\r\n",
    "        dims.append(height)\r\n",
    "\r\n",
    "    for obj in root.findall('object'):\r\n",
    "        anomaly = obj.find('name').text\r\n",
    "        if anomaly == 'motorcycle' :\r\n",
    "            for bndbox in obj.findall('bndbox'):\r\n",
    "                bb['xmin'] = int(bndbox.find('xmin').text)\r\n",
    "                bb['xmax'] = int(bndbox.find('xmax').text)\r\n",
    "                bb['ymin'] = int(bndbox.find('ymin').text)\r\n",
    "                bb['ymax'] = int(bndbox.find('ymax').text)\r\n",
    "                \r\n",
    "            width = bb['xmax'] - bb['xmin']\r\n",
    "            w_m = round(width/dims[0], 6)\r\n",
    "            height = bb['ymax'] - bb['ymin']\r\n",
    "            h_m = round(height/dims[1], 6)\r\n",
    "            \r\n",
    "            \r\n",
    "            x = (bb['xmin'] + bb['xmax'])/2\r\n",
    "            x = round(x/dims[0], 6)\r\n",
    "            y = (bb['ymin'] + bb['ymax'])/2\r\n",
    "            y = round(y/dims[1], 6)\r\n",
    "            \r\n",
    "            filename = ntpath.basename(i)\r\n",
    "            filename = filename.split('.')[0] + '.txt'\r\n",
    "        \r\n",
    "            file_path = os.path.join(dest_folder, filename)\r\n",
    "            with open(file_path,'a') as f:\r\n",
    "                f.write(str(int(0))+' '+str(x)+' '+str(y)+' '+str(w_m)+' '+str(h_m)+ '\\n')"
   ],
   "outputs": [],
   "metadata": {}
  },
  {
   "cell_type": "code",
   "execution_count": null,
   "source": [],
   "outputs": [],
   "metadata": {}
  }
 ],
 "metadata": {
  "kernelspec": {
   "display_name": "Python 3",
   "language": "python",
   "name": "python3"
  },
  "language_info": {
   "codemirror_mode": {
    "name": "ipython",
    "version": 3
   },
   "file_extension": ".py",
   "mimetype": "text/x-python",
   "name": "python",
   "nbconvert_exporter": "python",
   "pygments_lexer": "ipython3",
   "version": "3.8.8"
  }
 },
 "nbformat": 4,
 "nbformat_minor": 5
}